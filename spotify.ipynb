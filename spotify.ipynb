{
 "cells": [
  {
   "cell_type": "code",
   "execution_count": null,
   "metadata": {},
   "outputs": [],
   "source": [
    "import pandas as pd\n",
    "from sklearn import model_selection\n",
    "from sklearn.linear_model import LinearRegression\n",
    "data=pd.read_csv('C:/Users/Naman/Desktop/spotifyclassification/data.csv')\n",
    "type(data)\n",
    "data.describe()"
   ]
  },
  {
   "cell_type": "code",
   "execution_count": null,
   "metadata": {},
   "outputs": [],
   "source": [
    "data"
   ]
  },
  {
   "cell_type": "code",
   "execution_count": null,
   "metadata": {},
   "outputs": [],
   "source": [
    "data.head(10)"
   ]
  },
  {
   "cell_type": "code",
   "execution_count": null,
   "metadata": {},
   "outputs": [],
   "source": [
    "data.info()\n"
   ]
  },
  {
   "cell_type": "code",
   "execution_count": null,
   "metadata": {},
   "outputs": [],
   "source": [
    "from sklearn.model_selection import train_test_split\n",
    "train,test=train_test_split(data,test_size=0.15)\n",
    "print(train.shape)\n",
    "test.shape"
   ]
  },
  {
   "cell_type": "code",
   "execution_count": null,
   "metadata": {},
   "outputs": [],
   "source": [
    "pos_tempo=data[data['target']==1]['tempo']\n",
    "neg_tempo=data[data['target']==0]['tempo']\n",
    "pos_dance=data[data['target']==1]['danceability']\n",
    "neg_dance=data[data['target']==0]['danceability']\n",
    "pos_duration=data[data['target']==1]['duration_ms']\n",
    "neg_duration=data[data['target']==0]['duration_ms']\n",
    "pos_loudness=data[data['target']==1]['loudness']\n",
    "neg_loudness=data[data['target']==0]['loudness']\n",
    "pos_speechiness=data[data['target']==1]['speechiness']\n",
    "neg_speechiness=data[data['target']==0]['speechiness']\n",
    "pos_valence=data[data['target']==1]['valence']\n",
    "neg_valence=data[data['target']==0]['valence']\n",
    "pos_energy=data[data['target']==1]['energy']\n",
    "neg_energy=data[data['target']==0]['energy']\n",
    "pos_acousticness=data[data['target']==1]['acousticness']\n",
    "neg_acousticness=data[data['target']==0]['acousticness']\n",
    "pos_key=data[data['target']==1]['key']\n",
    "neg_key=data[data['target']==0]['key']\n",
    "pos_instrumentalness=data[data['target']==1]['instrumentalness']\n",
    "neg_instrumentalness=data[data['target']==0]['instrumentalness']"
   ]
  },
  {
   "cell_type": "code",
   "execution_count": null,
   "metadata": {},
   "outputs": [],
   "source": [
    "import matplotlib.pyplot as plt\n",
    "fig=plt.figure(figsize=(12,5))\n",
    "pos_tempo.hist(alpha=0.99,bins=50,label='positive')\n",
    "neg_tempo.hist(alpha=0.7,bins=50,label='negative')\n",
    "plt.legend(loc='upper left')\n",
    "plt.show()\n"
   ]
  },
  {
   "cell_type": "code",
   "execution_count": null,
   "metadata": {},
   "outputs": [],
   "source": [
    "data.negative= 1 - data.target\n",
    "data.groupby('tempo')[['target'==1, 'target'==0]].plot(kind='bar',grid=True,stacked=True, color=['g', 'r']);"
   ]
  },
  {
   "cell_type": "code",
   "execution_count": null,
   "metadata": {},
   "outputs": [],
   "source": [
    "fig2=plt.figure(figsize=(20,20))\n",
    "\n",
    "ax3=fig2.add_subplot(331)\n",
    "ax3.set_xlabel(\"danceability\")\n",
    "pos_dance.hist(alpha=0.5,bins=40,label='positive')\n",
    "neg_dance.hist(alpha=0.5,bins=40,label='negative')\n",
    "plt.legend(loc=\"upper left\")\n",
    "\n",
    "\n",
    "ax3=fig2.add_subplot(332)\n",
    "ax3.set_xlabel(\"duration\")\n",
    "pos_duration.hist(alpha=0.5,bins=40,label='positive')\n",
    "neg_duration.hist(alpha=0.5,bins=40,label='negative')\n",
    "plt.legend(loc=\"upper left\")\n",
    "\n",
    "\n",
    "ax3=fig2.add_subplot(333)\n",
    "ax3.set_xlabel(\"loudness\")\n",
    "pos_loudness.hist(alpha=0.5,bins=40,label='positive')\n",
    "neg_loudness.hist(alpha=0.5,bins=40,label='negative')\n",
    "plt.legend(loc=\"upper left\")\n",
    "\n",
    "\n",
    "ax3=fig2.add_subplot(334)\n",
    "ax3.set_xlabel(\"speechiness\")\n",
    "pos_speechiness.hist(alpha=0.5,bins=40,label='positive')\n",
    "neg_speechiness.hist(alpha=0.5,bins=40,label='negative')\n",
    "plt.legend(loc=\"upper left\")\n",
    "\n",
    "ax3=fig2.add_subplot(335)\n",
    "ax3.set_xlabel(\"valence\")\n",
    "pos_valence.hist(alpha=0.5,bins=40,label='positive')\n",
    "neg_valence.hist(alpha=0.5,bins=40,label='negative')\n",
    "plt.legend(loc=\"upper left\")\n",
    "\n",
    "ax3=fig2.add_subplot(336)\n",
    "ax3.set_xlabel(\"energy\")\n",
    "pos_energy.hist(alpha=0.5,bins=40,label='positive')\n",
    "neg_energy.hist(alpha=0.5,bins=40,label='negative')\n",
    "plt.legend(loc=\"upper left\")\n",
    "\n",
    "ax3=fig2.add_subplot(337)\n",
    "ax3.set_xlabel(\"acousticness\")\n",
    "pos_acousticness.hist(alpha=0.5,bins=40,label='positive')\n",
    "neg_acousticness.hist(alpha=0.5,bins=40,label='negative')\n",
    "plt.legend(loc=\"upper left\")\n",
    "\n",
    "\n",
    "ax3=fig2.add_subplot(338)\n",
    "ax3.set_xlabel(\"key\")\n",
    "pos_key.hist(alpha=0.5,bins=40,label='positive')\n",
    "neg_key.hist(alpha=0.5,bins=40,label='negative')\n",
    "plt.legend(loc=\"upper left\")\n",
    "\n",
    "ax3=fig2.add_subplot(339)\n",
    "ax3.set_xlabel(\"instrumentalness\")\n",
    "pos_instrumentalness.hist(alpha=0.5,bins=40,label='positive')\n",
    "neg_instrumentalness.hist(alpha=0.5,bins=40,label='negative')\n",
    "plt.legend(loc=\"upper left\")\n",
    "\n"
   ]
  },
  {
   "cell_type": "code",
   "execution_count": null,
   "metadata": {},
   "outputs": [],
   "source": [
    "from sklearn.tree import DecisionTreeClassifier\n",
    "c=DecisionTreeClassifier(min_samples_split=100)"
   ]
  },
  {
   "cell_type": "code",
   "execution_count": null,
   "metadata": {},
   "outputs": [],
   "source": [
    "features=[\"danceability\",\"loudness\",\"valence\",\"energy\",\"instrumentalness\",\"key\",\"acousticness\",\"speechiness\",\"duration_ms\"]"
   ]
  },
  {
   "cell_type": "code",
   "execution_count": null,
   "metadata": {},
   "outputs": [],
   "source": [
    "x_train=train[features]\n",
    "y_train=train[\"target\"]\n",
    "\n",
    "x_test=test[features]\n",
    "y_test=test[\"target\"]"
   ]
  },
  {
   "cell_type": "code",
   "execution_count": null,
   "metadata": {},
   "outputs": [],
   "source": [
    "dt=c.fit(x_train,y_train)"
   ]
  },
  {
   "cell_type": "code",
   "execution_count": null,
   "metadata": {},
   "outputs": [],
   "source": [
    "clf=DecisionTreeClassifier()\n",
    "clf.fit(x_train, y_train)\n",
    "y_train_pred=clf.predict(x_train)\n",
    "y_test_pred=clf.predict(x_test)"
   ]
  },
  {
   "cell_type": "code",
   "execution_count": null,
   "metadata": {},
   "outputs": [],
   "source": [
    "import pydotplus\n",
    "from sklearn.tree import export_graphviz"
   ]
  },
  {
   "cell_type": "code",
   "execution_count": null,
   "metadata": {},
   "outputs": [],
   "source": [
    "dot_data =export_graphviz(c,out_file=None)\n",
    "graph=pydotplus.graph_from_dot_data(dot_data)\n",
    "graph.write_pdf(\"nmn.pdf\")"
   ]
  }
 ],
 "metadata": {
  "kernelspec": {
   "display_name": "Python 3",
   "language": "python",
   "name": "python3"
  },
  "language_info": {
   "codemirror_mode": {
    "name": "ipython",
    "version": 3
   },
   "file_extension": ".py",
   "mimetype": "text/x-python",
   "name": "python",
   "nbconvert_exporter": "python",
   "pygments_lexer": "ipython3",
   "version": "3.6.4"
  }
 },
 "nbformat": 4,
 "nbformat_minor": 2
}
