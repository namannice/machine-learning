{
 "cells": [
  {
   "cell_type": "markdown",
   "metadata": {},
   "source": [
    "### importing libraries"
   ]
  },
  {
   "cell_type": "code",
   "execution_count": 2,
   "metadata": {},
   "outputs": [],
   "source": [
    "import numpy as np\n"
   ]
  },
  {
   "cell_type": "markdown",
   "metadata": {},
   "source": [
    "### loading data and making one hot vector"
   ]
  },
  {
   "cell_type": "code",
   "execution_count": 3,
   "metadata": {
    "scrolled": true
   },
   "outputs": [
    {
     "name": "stdout",
     "output_type": "stream",
     "text": [
      "(20000, 20)\n",
      "(20000, 1)\n",
      "[[ 0  0  0 ...  0  1  0]\n",
      " [ 0 -1  0 ...  0 -1  0]\n",
      " [-1  0  0 ...  1 -1  0]\n",
      " ...\n",
      " [ 0  1  0 ...  0  0  0]\n",
      " [-1  0  0 ...  0  0  1]\n",
      " [ 1  0 -1 ...  0  1  1]]\n",
      "[[0. 0. 0. 1. 0.]\n",
      " [0. 0. 1. 0. 0.]\n",
      " [0. 0. 1. 0. 0.]\n",
      " ...\n",
      " [0. 0. 1. 0. 0.]\n",
      " [0. 0. 1. 0. 0.]\n",
      " [1. 0. 0. 0. 0.]]\n",
      "(20000, 5)\n"
     ]
    }
   ],
   "source": [
    "d=np.loadtxt(\"C:/Users/Naman/Desktop/ml dl/data1.csv\",delimiter=\",\",dtype=int)\n",
    "l=np.loadtxt(\"C:/Users/Naman/Desktop/ml dl/label1.csv\",delimiter=\",\",dtype=int,ndmin=2)\n",
    "print(d.shape)\n",
    "print(l.shape)\n",
    "print(d)\n",
    "values=np.max(l)+1\n",
    "hot=np.eye(values)[l]\n",
    "hot=np.reshape(hot,(20000,5))\n",
    "print(hot)\n",
    "print(hot.shape)\n",
    "\n",
    "\n",
    "#train test split is not done to avoid the needless effort\n",
    "#"
   ]
  },
  {
   "cell_type": "markdown",
   "metadata": {},
   "source": [
    "# generating weights"
   ]
  },
  {
   "cell_type": "code",
   "execution_count": 4,
   "metadata": {},
   "outputs": [],
   "source": [
    "np.random.seed(1)\n",
    "w1=np.random.random((20,2))\n",
    "w2=np.random.random((2,5))   ##number of neurons in mid layer is fixed i.e.,2"
   ]
  },
  {
   "cell_type": "markdown",
   "metadata": {},
   "source": [
    "# activation function and its derivative"
   ]
  },
  {
   "cell_type": "code",
   "execution_count": 5,
   "metadata": {},
   "outputs": [],
   "source": [
    "def sigmoid(x,der=False):\n",
    "        if(der==True):\n",
    "            return x*(1-x)\n",
    "        return 1/(1+np.exp(-x))"
   ]
  },
  {
   "cell_type": "markdown",
   "metadata": {},
   "source": [
    "# forward pass and backward pass"
   ]
  },
  {
   "cell_type": "code",
   "execution_count": 6,
   "metadata": {},
   "outputs": [
    {
     "name": "stdout",
     "output_type": "stream",
     "text": [
      "[[0.5 0.5 0.5 0.5 0.5]\n",
      " [0.5 0.5 0.5 0.5 0.5]\n",
      " [0.  0.  0.  0.  0. ]\n",
      " ...\n",
      " [0.5 0.5 0.5 0.5 0.5]\n",
      " [0.5 0.5 0.5 0.5 0.5]\n",
      " [0.  0.  0.  0.  0. ]]\n",
      "[[0. 0. 0. 1. 0.]\n",
      " [0. 0. 1. 0. 0.]\n",
      " [0. 0. 1. 0. 0.]\n",
      " ...\n",
      " [0. 0. 1. 0. 0.]\n",
      " [0. 0. 1. 0. 0.]\n",
      " [1. 0. 0. 0. 0.]]\n"
     ]
    }
   ],
   "source": [
    "for i in range(5):\n",
    "    a0=d     ##forward pass\n",
    "    a1=sigmoid(np.dot(a0,w1))\n",
    "    a2=sigmoid(np.dot(a1,w2))\n",
    "\n",
    "    \n",
    "    err2=hot-a2       #backward pass\n",
    "    delta2=err2*sigmoid(a2,der=True)\n",
    "    err1=delta2.dot(w2.T)\n",
    "    delta1=err1*sigmoid(a1,der=True)\n",
    "    \n",
    "    \n",
    "    w2 +=a1.T.dot(delta2)  #updatation of weights\n",
    "    w1 +=a0.T.dot(delta1)\n",
    "\n",
    "print(a2)\n",
    "print(hot)"
   ]
  },
  {
   "cell_type": "code",
   "execution_count": 7,
   "metadata": {},
   "outputs": [
    {
     "name": "stdout",
     "output_type": "stream",
     "text": [
      "[[0.5 0.5 0.5 0.5 0.5]\n",
      " [0.5 0.5 0.5 0.5 0.5]\n",
      " [0.  0.  0.  0.  0. ]\n",
      " ...\n",
      " [0.5 0.5 0.5 0.5 0.5]\n",
      " [0.5 0.5 0.5 0.5 0.5]\n",
      " [0.  0.  0.  0.  0. ]]\n"
     ]
    }
   ],
   "source": [
    "print(a2) #ouput after 10 epochs"
   ]
  }
 ],
 "metadata": {
  "kernelspec": {
   "display_name": "Python 3",
   "language": "python",
   "name": "python3"
  },
  "language_info": {
   "codemirror_mode": {
    "name": "ipython",
    "version": 3
   },
   "file_extension": ".py",
   "mimetype": "text/x-python",
   "name": "python",
   "nbconvert_exporter": "python",
   "pygments_lexer": "ipython3",
   "version": "3.6.4"
  }
 },
 "nbformat": 4,
 "nbformat_minor": 2
}
